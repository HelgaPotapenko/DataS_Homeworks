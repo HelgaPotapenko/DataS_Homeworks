{
 "cells": [
  {
   "cell_type": "markdown",
   "metadata": {
    "toc": true
   },
   "source": [
    "<h1>Table of Contents<span class=\"tocSkip\"></span></h1>\n",
    "<div class=\"toc\"><ul class=\"toc-item\"></ul></div>"
   ]
  },
  {
   "cell_type": "markdown",
   "metadata": {},
   "source": [
    "Homework1_NLP\n",
    "Школа DataScientist, декабрь 2022, Андреева Ольга"
   ]
  },
  {
   "cell_type": "markdown",
   "metadata": {
    "id": "dH7qx_irU4Y8"
   },
   "source": [
    "###ML1_1: \n",
    "https://www.hackerrank.com/challenges/capturing-non-capturing-groups/problem?isFullScreen=true\n",
    "\n",
    "S should have 3 or more consecutive repetitions of ok."
   ]
  },
  {
   "cell_type": "code",
   "execution_count": 96,
   "metadata": {
    "id": "xJfkstKpqsXp"
   },
   "outputs": [
    {
     "name": "stdout",
     "output_type": "stream",
     "text": [
      "true\n"
     ]
    }
   ],
   "source": [
    "import re\n",
    "S='1234okokokoliut8*6'\n",
    "Regex_Pattern = r'.?(ok){3}.?'# Do not delete 'r'.\n",
    "\n",
    "print(str(bool(re.search(Regex_Pattern, S))).lower())"
   ]
  },
  {
   "cell_type": "markdown",
   "metadata": {},
   "source": [
    "###ML1_2: https://www.hackerrank.com/challenges/branch-reset-groups/problem?isFullScreen=true\n",
    "\n",
    "Your task is to write a regex which will match S, with following condition(s):\n",
    "- S consists of 8 digits.\n",
    "- S must have \"---\", \"-\", \".\" or \":\" separator such that string S gets divided in 4 parts, with each part having exactly two digits.\n",
    "- S string must have exactly one kind of separator.\n",
    "- Separators must have integers on both sides."
   ]
  },
  {
   "cell_type": "code",
   "execution_count": 97,
   "metadata": {},
   "outputs": [
    {
     "name": "stdout",
     "output_type": "stream",
     "text": [
      "true\n"
     ]
    }
   ],
   "source": [
    "import re\n",
    "S='12-38-56-79'\n",
    "Regex_Pattern = r'^\\d{2}(-\\d{2}){3}$|(\\.\\d{2}){3}$|(\\:\\d{2}){3}$|(-{3}\\d{2}){3}$'\n",
    "\n",
    "print(str(bool(re.search(Regex_Pattern, S))).lower())"
   ]
  },
  {
   "cell_type": "markdown",
   "metadata": {},
   "source": [
    "###ML1_3: \n",
    "https://www.hackerrank.com/challenges/detect-html-links/problem?isFullScreen=true\n",
    "\n"
   ]
  },
  {
   "cell_type": "code",
   "execution_count": 20,
   "metadata": {},
   "outputs": [
    {
     "name": "stdout",
     "output_type": "stream",
     "text": [
      "http://www.quackit.com/html/tutorial/html_links.cfm,Example Link\n",
      "http://www.quackit.com/html/examples/html_links_examples.cfm,More Link Examples...\n"
     ]
    }
   ],
   "source": [
    "import re \n",
    "in_list = ['2'\n",
    "          ,'<p><A href=\"http://www.quackit.com/html/tutorial/html_links.cfm\">Example Link</a></p>'\n",
    "          ,'<div class=\"more-info\"><a href=\"http://www.quackit.com/html/examples/html_links_examples.cfm\">More Link Examples...</a></div>'\n",
    "          ]\n",
    " \n",
    "#n=int(input())    \n",
    "#in_list = [input() for i in range(n)]\n",
    "\n",
    "v_tmplt1 = r'.?<a\\s+?href=\"(.*?)\".*?>(.*?)</a>'\n",
    "v_tmplt2 = r'<[^>]*>'\n",
    "out_list=[]\n",
    "for v_str in in_list:\n",
    "    v_finded = re.findall(v_tmplt1 , v_str, flags=re.IGNORECASE)\n",
    "    for v_item in v_finded:\n",
    "        v_part1 = v_item[0].strip()\n",
    "        v_part2 = re.sub(v_tmplt2, '', v_item[1]).strip()\n",
    "        out_list.append(v_part1 + ',' + v_part2)\n",
    "\n",
    "for v_str in out_list:\n",
    "    print(v_str)"
   ]
  },
  {
   "cell_type": "markdown",
   "metadata": {},
   "source": [
    "###ML1_4: Реализовать stemming, lemmatization & BoW на следующем датасете: https://cloud.mail.ru/public/Z4L3/vB8GcgTtK (Russian Toxic-abuse comments)"
   ]
  },
  {
   "cell_type": "code",
   "execution_count": 133,
   "metadata": {},
   "outputs": [],
   "source": [
    "import pandas as pd\n",
    "from nltk.tokenize import WordPunctTokenizer\n",
    "\n",
    "from nltk.stem import SnowballStemmer\n",
    "\n",
    "from nltk.tokenize import word_tokenize\n",
    "\n",
    "from pymorphy2 import MorphAnalyzer"
   ]
  },
  {
   "cell_type": "code",
   "execution_count": 140,
   "metadata": {},
   "outputs": [],
   "source": [
    "df_data = pd.read_csv(\"./csv4nlp/labeled.csv\", encoding=\"utf-8\")\n",
    "#df_data.head(5)"
   ]
  },
  {
   "cell_type": "code",
   "execution_count": 147,
   "metadata": {},
   "outputs": [
    {
     "name": "stdout",
     "output_type": "stream",
     "text": [
      "Wall time: 936 ms\n"
     ]
    }
   ],
   "source": [
    "%%time\n",
    "\n",
    "#tokenizing\n",
    "\n",
    "tokenizer = WordPunctTokenizer()\n",
    "df_data['tokens'] = df_data.apply(lambda x: list(w.lower() for w in tokenizer.tokenize(x.comment)), axis=1)\n",
    "#df_data.head(5)"
   ]
  },
  {
   "cell_type": "code",
   "execution_count": null,
   "metadata": {},
   "outputs": [],
   "source": [
    "%%time\n",
    "\n",
    "#steaming\n",
    "\n",
    "snb = SnowballStemmer(language=\"russian\")    \n",
    "df_data['steams'] = df_data.apply(lambda x: list(snb.stem(w) for w in (x.tokens)), axis=1)\n",
    "#df_data.head(5)"
   ]
  },
  {
   "cell_type": "code",
   "execution_count": null,
   "metadata": {},
   "outputs": [],
   "source": [
    "%%time\n",
    "\n",
    "#lemmatization\n",
    "\n",
    "lemmatizer = MorphAnalyzer()\n",
    "df_data['lemmas'] = df_data.apply(lambda x: list(lemmatizer.normal_forms(w)[0] for w in (x.tokens)), axis=1)\n",
    "#df_data.head(5) "
   ]
  },
  {
   "cell_type": "code",
   "execution_count": null,
   "metadata": {},
   "outputs": [],
   "source": [
    "%%time\n",
    "\n",
    "#steaming after lemmatization\n",
    "\n",
    "snb = SnowballStemmer(language=\"russian\")\n",
    "df_data['lem_steam'] = df_data.apply(lambda x: list(snb.stem(w) for w in (x.lemmas)), axis=1)\n",
    "df_data.head(5) "
   ]
  },
  {
   "cell_type": "code",
   "execution_count": null,
   "metadata": {},
   "outputs": [],
   "source": []
  }
 ],
 "metadata": {
  "colab": {
   "name": "NLP1_homework",
   "provenance": [],
   "toc_visible": true
  },
  "kernelspec": {
   "display_name": "Python 3 (ipykernel)",
   "language": "python",
   "name": "python3"
  },
  "language_info": {
   "codemirror_mode": {
    "name": "ipython",
    "version": 3
   },
   "file_extension": ".py",
   "mimetype": "text/x-python",
   "name": "python",
   "nbconvert_exporter": "python",
   "pygments_lexer": "ipython3",
   "version": "3.8.16"
  },
  "toc": {
   "base_numbering": 1,
   "nav_menu": {},
   "number_sections": true,
   "sideBar": true,
   "skip_h1_title": false,
   "title_cell": "Table of Contents",
   "title_sidebar": "Contents",
   "toc_cell": true,
   "toc_position": {
    "height": "calc(100% - 180px)",
    "left": "10px",
    "top": "150px",
    "width": "294.653px"
   },
   "toc_section_display": true,
   "toc_window_display": true
  }
 },
 "nbformat": 4,
 "nbformat_minor": 1
}
