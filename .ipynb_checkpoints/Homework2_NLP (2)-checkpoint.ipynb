{
 "cells": [
  {
   "cell_type": "markdown",
   "metadata": {
    "toc": true
   },
   "source": [
    "<h1>Table of Contents<span class=\"tocSkip\"></span></h1>\n",
    "<div class=\"toc\"><ul class=\"toc-item\"></ul></div>"
   ]
  },
  {
   "cell_type": "markdown",
   "metadata": {},
   "source": [
    "Homework2_NLP Школа DataScientist, декабрь 2022, Андреева Ольга"
   ]
  },
  {
   "cell_type": "markdown",
   "metadata": {
    "id": "jKzbIfdq0CKr"
   },
   "source": [
    "NLP2_2 https://www.hackerrank.com/challenges/detect-the-domain-name/problem?isFullScreen=true\n",
    "\n",
    "identify the unique domain names from the links or Urls which are present in the markup fragment."
   ]
  },
  {
   "cell_type": "code",
   "execution_count": 2,
   "metadata": {},
   "outputs": [
    {
     "name": "stdout",
     "output_type": "stream",
     "text": [
      "3astrospeak.lkh.com;b.com;w3.org;zarabol.rediff.com\n"
     ]
    }
   ],
   "source": [
    "import re \n",
    "in_list = ['1027'\n",
    "            ,'\"http://www.w3.org/TR/xhtml1/DTD/xhtml1-transitional.dtd\">'\n",
    "            ,'\"http://3astrospeak.lkh.com?\"'\n",
    "           ,'url=___http://zarabol.rediff.com___&cmp=za'\n",
    "           ,'\"http://b.com\"'\n",
    "          ]\n",
    "#n=int(input())    \n",
    "#in_list = [input() for i in range(n)]\n",
    "\n",
    "c_tmplt1 = '[http|https]://(www\\.|ww2\\.)?(([a-z0-9][a-z0-9\\-]*\\.)+[a-z0-9\\-]+)'\n",
    "out_set=set()\n",
    "for v_str in  in_list:\n",
    "    v_finded = re.findall(c_tmplt1 , v_str, flags=re.IGNORECASE)\n",
    "    for v_item in v_finded:\n",
    "        v_dn = v_item[1].strip()\n",
    "        out_set.add(v_dn)\n",
    "\n",
    "out_set=sorted(out_set)\n",
    "print(\";\".join(out_set))\n"
   ]
  },
  {
   "cell_type": "markdown",
   "metadata": {
    "id": "Op8qPHa8J68_"
   },
   "source": [
    "NLP2_3 (дз1): Реализовать stemming, lemmatization & BoW на следующем датасете: https://cloud.mail.ru/public/Z4L3/vB8GcgTtK (Russian Toxic-abuse comments)"
   ]
  },
  {
   "cell_type": "markdown",
   "metadata": {
    "id": "b5DQQnoU1bXY"
   },
   "source": [
    "NLP2_4 (дополнительно) Реализовать классификатор токсичных комментариев tfidf на базе датасета (если не успели на классном занятии)\n",
    "https://www.kaggle.com/datasets/blackmoon/russian-language-toxic-comments  \n",
    "\n",
    "Дубликат файла: https://cloud.mail.ru/public/Z4L3/vB8GcgTtK\n",
    "\n"
   ]
  },
  {
   "cell_type": "code",
   "execution_count": null,
   "metadata": {
    "id": "0BRC1-k81pIW"
   },
   "outputs": [],
   "source": []
  }
 ],
 "metadata": {
  "colab": {
   "provenance": []
  },
  "kernelspec": {
   "display_name": "Python 3 (ipykernel)",
   "language": "python",
   "name": "python3"
  },
  "language_info": {
   "codemirror_mode": {
    "name": "ipython",
    "version": 3
   },
   "file_extension": ".py",
   "mimetype": "text/x-python",
   "name": "python",
   "nbconvert_exporter": "python",
   "pygments_lexer": "ipython3",
   "version": "3.8.16"
  },
  "toc": {
   "base_numbering": 1,
   "nav_menu": {},
   "number_sections": true,
   "sideBar": true,
   "skip_h1_title": false,
   "title_cell": "Table of Contents",
   "title_sidebar": "Contents",
   "toc_cell": true,
   "toc_position": {
    "height": "calc(100% - 180px)",
    "left": "10px",
    "top": "150px",
    "width": "165px"
   },
   "toc_section_display": true,
   "toc_window_display": true
  }
 },
 "nbformat": 4,
 "nbformat_minor": 1
}
